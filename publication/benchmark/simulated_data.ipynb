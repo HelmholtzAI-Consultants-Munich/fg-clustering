{
 "cells": [
  {
   "cell_type": "markdown",
   "id": "6be8b5c1-bd31-4d81-ad2f-d737921a5685",
   "metadata": {},
   "source": [
    "# Data simulation"
   ]
  },
  {
   "cell_type": "code",
   "execution_count": 21,
   "id": "5b75d5ec-128d-46f2-b134-bea6efe24825",
   "metadata": {},
   "outputs": [],
   "source": [
    "import numpy as np\n",
    "import matplotlib.pyplot as plt\n",
    "import pandas as pd\n",
    "import seaborn as sns\n",
    "\n",
    "sns.set_context('notebook')\n",
    "\n",
    "# Set random seed for reproducibility\n",
    "np.random.seed(79)\n",
    "\n",
    "# Number of samples per class\n",
    "n_samples = 200"
   ]
  },
  {
   "cell_type": "code",
   "execution_count": 3,
   "id": "954e6251-6e11-4489-9bb1-d7343cd48336",
   "metadata": {},
   "outputs": [],
   "source": [
    "# Define labels\n",
    "labels = np.concatenate([np.full(n_samples, 0), np.full(n_samples//2, 1), np.full(n_samples//2, 2), np.full(n_samples, 3)])\n",
    "\n",
    "# Feature 1\n",
    "feature_1 = np.concatenate([np.random.normal(loc=5, scale=1, size=n_samples), \n",
    "                            np.random.normal(loc=5, scale=1, size=round(n_samples/2)), \n",
    "                            np.random.normal(loc=10, scale=1, size=round(n_samples/2)), \n",
    "                            np.random.normal(loc=5, scale=1, size=n_samples)])\n",
    "\n",
    "# Feature 2\n",
    "feature_2 = np.concatenate([np.random.normal(loc=5, scale=1, size=n_samples), \n",
    "                            np.random.normal(loc=10, scale=1, size=round(n_samples/2)), \n",
    "                            np.random.normal(loc=5, scale=1, size=round(n_samples/2)), \n",
    "                            np.random.normal(loc=5, scale=1, size=n_samples)])\n",
    "\n",
    "# Add noise features\n",
    "noise_feature_1 = np.random.normal(loc=0, scale=1, size=len(labels))\n",
    "noise_feature_2 = np.random.binomial(n=1, p=0.5, size=len(labels))\n",
    "\n",
    "# Add another normal feature with a different mean for one subclass - Feature 3\n",
    "normal_feature_subclass_1 = np.random.normal(loc=5, scale=1, size=n_samples)\n",
    "normal_feature_subclass_2 = np.random.normal(loc=5, scale=1, size=n_samples)\n",
    "normal_feature_subclass_3 = np.random.normal(loc=10, scale=1, size=n_samples)\n",
    "# Combine the new normal feature\n",
    "normal_feature = np.concatenate([normal_feature_subclass_1, normal_feature_subclass_2, normal_feature_subclass_3])\n",
    "\n",
    "# Create a new column combining Class 1 and Class 2\n",
    "combined_labels = np.where(np.isin(labels, [2, 3]), 1, labels)\n",
    "\n",
    "# Create a DataFrame\n",
    "data = pd.DataFrame({\n",
    "    'Feature_1': feature_1,\n",
    "    'Feature_2': feature_2, \n",
    "    'Feature_3': normal_feature, \n",
    "    'Noise_feature_1': noise_feature_1, \n",
    "    'Noise_feature_2': noise_feature_2, \n",
    "    'Subclass': labels,\n",
    "    'Class': combined_labels\n",
    "})\n"
   ]
  },
  {
   "cell_type": "markdown",
   "id": "b50b4483-45e5-45e7-9e23-4f80e9360ed2",
   "metadata": {},
   "source": [
    "Save the data: "
   ]
  },
  {
   "cell_type": "code",
   "execution_count": 5,
   "id": "28653c47-127f-4e8e-be3e-264ffdc55bd1",
   "metadata": {},
   "outputs": [],
   "source": [
    "data.to_csv('simulated_data.csv', index=False)"
   ]
  }
 ],
 "metadata": {
  "kernelspec": {
   "display_name": "Python 3 (ipykernel)",
   "language": "python",
   "name": "python3"
  },
  "language_info": {
   "codemirror_mode": {
    "name": "ipython",
    "version": 3
   },
   "file_extension": ".py",
   "mimetype": "text/x-python",
   "name": "python",
   "nbconvert_exporter": "python",
   "pygments_lexer": "ipython3",
   "version": "3.12.3"
  },
  "toc": {
   "base_numbering": 1,
   "nav_menu": {},
   "number_sections": true,
   "sideBar": true,
   "skip_h1_title": false,
   "title_cell": "Table of Contents",
   "title_sidebar": "Contents",
   "toc_cell": false,
   "toc_position": {},
   "toc_section_display": true,
   "toc_window_display": false
  }
 },
 "nbformat": 4,
 "nbformat_minor": 5
}
